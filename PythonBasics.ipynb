{
 "cells": [
  {
   "cell_type": "code",
   "execution_count": 2,
   "id": "48c8fd9c",
   "metadata": {},
   "outputs": [
    {
     "name": "stdout",
     "output_type": "stream",
     "text": [
      "Enter a number to check45\n",
      "It is not a prime number\n"
     ]
    }
   ],
   "source": [
    " #To check for a no. to be prime or not \n",
    "a = int(input(\"Enter a number to check\"))\n",
    "c = 0\n",
    "for i in range(1, a+1):\n",
    "    if ( a%i == 0):\n",
    "        c = c+1\n",
    "if c == 2 :\n",
    "    print(\"It is a prime number \")\n",
    "else:\n",
    "    print(\"It is not a prime number\")"
   ]
  },
  {
   "cell_type": "code",
   "execution_count": 3,
   "id": "844eed14",
   "metadata": {},
   "outputs": [
    {
     "name": "stdout",
     "output_type": "stream",
     "text": [
      "<class 'int'> <class 'float'> <class 'str'>\n"
     ]
    }
   ],
   "source": [
    "# Checking the datatypes of different variables\n",
    "a = 32\n",
    "b = 48.78\n",
    "c = \"hello\"\n",
    "print(type(a) , type(b) , type(c))"
   ]
  },
  {
   "cell_type": "code",
   "execution_count": 6,
   "id": "5caac44a",
   "metadata": {},
   "outputs": [
    {
     "name": "stdout",
     "output_type": "stream",
     "text": [
      "75\n",
      "C\n",
      "t\n",
      "Conatus\n",
      "Conat\n",
      "Conatus is the Computer Science and Information Technology society of AKGEC\n",
      "Conatus is\n",
      "is the Computer Science and Information Technology society of AKGEC\n",
      "Cntsi h op\n",
      "KGEC\n",
      "ety of AKG\n",
      "CEGKA fo yteicos ygolonhceT noitamrofnI dna ecneicS retupmoC eht si sutanoC\n",
      "Conatus is the computer science and information technology society of akgec\n",
      "4\n",
      "Conatus is the Computer Science or Information Technology society of AKGEC\n"
     ]
    }
   ],
   "source": [
    "# Strings and string functions\n",
    "Sent = \"Conatus is the Computer Science and Information Technology society of AKGEC\"\n",
    "print (len(Sent))#Length of the string\n",
    "print(Sent[0])#returns the character present at the specific index\n",
    "print(Sent[4])\n",
    "print(Sent[0:7])# performing differnet cases of string Slicing \n",
    "print(Sent[0:5])    \n",
    "print(Sent[:])\n",
    "print(Sent[:10])\n",
    "print(Sent[8:])\n",
    "print(Sent[0:20:2])\n",
    "print(Sent[-4:])\n",
    "print(Sent[-12:-2])\n",
    "print(Sent[::-1])\n",
    "print(Sent.capitalize())# Some String functions\n",
    "print(Sent.count(\"c\"))\n",
    "print(Sent.replace(\"and\" , \"or\"))\n",
    "\n",
    "\n"
   ]
  },
  {
   "cell_type": "code",
   "execution_count": 8,
   "id": "73790f4c",
   "metadata": {},
   "outputs": [
    {
     "name": "stdout",
     "output_type": "stream",
     "text": [
      "Enter a String uwgef8348r9hduw#$@%873\n",
      "Total is : 50 Average is: 6.25\n"
     ]
    }
   ],
   "source": [
    "#to count all digits in a string with their sum and average\n",
    "Sent = input(\"Enter a String \")\n",
    "dig= 0\n",
    "p = 0\n",
    "for word in Sent :\n",
    "    if word.isdigit():\n",
    "        p = p +1\n",
    "        dig = dig + int(word)\n",
    "print(\"Total is :\" ,dig,\"Average is:\",(dig/p))        "
   ]
  },
  {
   "cell_type": "code",
   "execution_count": 15,
   "id": "7f05c6e8",
   "metadata": {},
   "outputs": [
    {
     "name": "stdout",
     "output_type": "stream",
     "text": [
      "Enter a String435346\n"
     ]
    },
    {
     "ename": "TypeError",
     "evalue": "string indices must be integers",
     "output_type": "error",
     "traceback": [
      "\u001b[1;31m---------------------------------------------------------------------------\u001b[0m",
      "\u001b[1;31mTypeError\u001b[0m                                 Traceback (most recent call last)",
      "\u001b[1;32m~\\AppData\\Local\\Temp/ipykernel_26288/2671902446.py\u001b[0m in \u001b[0;36m<module>\u001b[1;34m\u001b[0m\n\u001b[0;32m      1\u001b[0m \u001b[1;31m#to pull out the middle 3 characters from a string\u001b[0m\u001b[1;33m\u001b[0m\u001b[1;33m\u001b[0m\u001b[0m\n\u001b[0;32m      2\u001b[0m \u001b[0mSent\u001b[0m \u001b[1;33m=\u001b[0m \u001b[0minput\u001b[0m\u001b[1;33m(\u001b[0m\u001b[1;34m\"Enter a String\"\u001b[0m\u001b[1;33m)\u001b[0m\u001b[1;33m\u001b[0m\u001b[1;33m\u001b[0m\u001b[0m\n\u001b[1;32m----> 3\u001b[1;33m \u001b[0mfinal\u001b[0m \u001b[1;33m=\u001b[0m \u001b[0mSent\u001b[0m\u001b[1;33m[\u001b[0m\u001b[0mint\u001b[0m\u001b[1;33m(\u001b[0m\u001b[0mlen\u001b[0m\u001b[1;33m(\u001b[0m\u001b[0mSent\u001b[0m\u001b[1;33m)\u001b[0m\u001b[1;33m)\u001b[0m\u001b[1;33m-\u001b[0m\u001b[1;36m1\u001b[0m\u001b[1;33m,\u001b[0m \u001b[0mint\u001b[0m\u001b[1;33m(\u001b[0m\u001b[0mlen\u001b[0m\u001b[1;33m(\u001b[0m\u001b[0mSent\u001b[0m\u001b[1;33m)\u001b[0m\u001b[1;33m)\u001b[0m\u001b[1;33m+\u001b[0m\u001b[1;36m2\u001b[0m\u001b[1;33m]\u001b[0m\u001b[1;33m\u001b[0m\u001b[1;33m\u001b[0m\u001b[0m\n\u001b[0m\u001b[0;32m      4\u001b[0m \u001b[0mprint\u001b[0m\u001b[1;33m(\u001b[0m\u001b[1;34m\"the final string is\"\u001b[0m \u001b[1;33m,\u001b[0m \u001b[0mfinal\u001b[0m\u001b[1;33m)\u001b[0m\u001b[1;33m\u001b[0m\u001b[1;33m\u001b[0m\u001b[0m\n",
      "\u001b[1;31mTypeError\u001b[0m: string indices must be integers"
     ]
    }
   ],
   "source": [
    "#to pull out the middle 3 characters from a string\n",
    "Sent = input(\"Enter a String\")\n",
    "final = Sent[int(len(Sent))-1, int(len(Sent))+2]\n",
    "print(\"the final string is\" , final)"
   ]
  },
  {
   "cell_type": "code",
   "execution_count": 25,
   "id": "25440cf6",
   "metadata": {},
   "outputs": [
    {
     "name": "stdout",
     "output_type": "stream",
     "text": [
      "['Reena', 'Meena', 'Teena', 'Seema', 'Jaya']\n",
      "['23', '43', '12', '1', '32', '54']\n",
      "['1', '12', '23', '32', '43', '54']\n",
      "['54', '43', '32', '23', '12', '1']\n",
      "['32', '23', '12', '1']\n",
      "['54', '32', '12']\n",
      "54\n",
      "['54', '43', '32', '23', '12', '1', 45, 56]\n",
      "<class 'list'>\n",
      "<class 'list'>\n",
      "754\n",
      "5\n"
     ]
    }
   ],
   "source": [
    "#Lists\n",
    "names = [\"Reena\" , \"Meena\" ,\"Teena\" , \"Seema\", \"Jaya\"]\n",
    "print(names)\n",
    "marks = [\"23\" , \"43\",\"12\",\"1\", \"32\",\"54\"]\n",
    "print(marks)\n",
    "marks.sort()\n",
    "print(marks)\n",
    "marks.reverse()\n",
    "print(marks)\n",
    "print(marks[2:6])\n",
    "print(marks[::2])\n",
    "print(max(marks))\n",
    "marks.append(45)\n",
    "marks.append(56)\n",
    "print(marks)\n",
    "print(type(marks))\n",
    "li = [1,2,4,5,6,32,45,754,21,32]\n",
    "print(type(li))\n",
    "print(li[-3])\n",
    "print(li[-7])\n"
   ]
  },
  {
   "cell_type": "code",
   "execution_count": 29,
   "id": "f6739c22",
   "metadata": {},
   "outputs": [
    {
     "name": "stdout",
     "output_type": "stream",
     "text": [
      "[8, 45, 43, 65, 2, 34, 66, 76, 32, 21, 3, 234, 64, 3]\n",
      "Even number 8\n",
      "Even number 2\n",
      "Even number 34\n",
      "Even number 66\n",
      "Even number 76\n",
      "Even number 32\n",
      "Even number 234\n",
      "Even number 64\n",
      "[2, 4, 5, 21, 45, 9, 7, 34, 213]\n"
     ]
    }
   ],
   "source": [
    "#interchanging first and last elements\n",
    "li =[3,45,43,65,2,34,66,76,32,21,3,234,64,8]\n",
    "m = int(len(li))\n",
    "temp = 0\n",
    "temp = li[0]\n",
    "li[0] = li[m-1]\n",
    "li[m-1] = temp\n",
    "print(li)\n",
    "#finding even numbers in the above list\n",
    "for no in li:\n",
    "    if no%2 == 0:\n",
    "        print(\"Even number\",no)\n",
    "#merging lists\n",
    "lis = [2,4,5,21,45]\n",
    "lis2 = [9,7,34,213]\n",
    "lis3 = lis + lis2\n",
    "print(lis3)"
   ]
  },
  {
   "cell_type": "code",
   "execution_count": 35,
   "id": "5a5b0c4d",
   "metadata": {},
   "outputs": [
    {
     "name": "stdout",
     "output_type": "stream",
     "text": [
      "<class 'tuple'>\n",
      "43\n",
      "(2, 3, 4, 1, 43, 5)\n",
      "43\n",
      "hello\n"
     ]
    }
   ],
   "source": [
    "#tupples\n",
    "ky =(2,3,4,1,43,5)\n",
    "print(type(ky))\n",
    "print(ky[4])\n",
    "print(ky)\n",
    "print(max(ky))\n",
    "(a,b) = (9 , \"hello\")\n",
    "print(b)\n"
   ]
  },
  {
   "cell_type": "code",
   "execution_count": 40,
   "id": "7bbea973",
   "metadata": {},
   "outputs": [
    {
     "name": "stdout",
     "output_type": "stream",
     "text": [
      "<class 'tuple'>\n",
      "(2, 34, 4, (6, 7, 9, 2), (12, 32, 45, 64, 12, 45, 56), (2, 4), 9, 97, 13)\n",
      "9\n",
      "('Hi', 'Hello', 'Hey')\n",
      "('Hi', 'Hello', 'Hey', 'bye')\n",
      "('Hi', 'Hey', 'bye')\n"
     ]
    }
   ],
   "source": [
    "tu = (2,34,4,(6,7,9,2),(12,32,45,64,12,45,56), (2,4),9,97,13)\n",
    "print(type(tu))\n",
    "print(tu)\n",
    "print(len(tu))\n",
    "t =(\"Hi\", \"Hello\", \"Hey\")\n",
    "print(t)\n",
    "# Adding element\n",
    "b = list(t)\n",
    "b.append(\"bye\")\n",
    "t = tuple(b)\n",
    "print(t)\n",
    "# Removing element\n",
    "b = list(t)\n",
    "b.remove(\"Hello\")\n",
    "t = tuple(b)\n",
    "print(t)\n"
   ]
  },
  {
   "cell_type": "code",
   "execution_count": 48,
   "id": "6719f778",
   "metadata": {},
   "outputs": [
    {
     "name": "stdout",
     "output_type": "stream",
     "text": [
      "<class 'dict'>\n",
      "43\n",
      "{'P': 87, 'C': 96, 'M': 76}\n",
      "96\n",
      "{'Sankalp': 20, 'Henry': 43, 'John': 32, 'Rey': 12, 'Dolf': {'P': 87, 'C': 96, 'M': 76}, 'Francis': 34}\n",
      "{'Henry': 43, 'John': 32, 'Rey': 12, 'Dolf': {'P': 87, 'C': 96, 'M': 76}, 'Francis': 34}\n",
      "{'Henry': 43, 'John': 32, 'Rey': 12, 'Dolf': {'P': 87, 'C': 96, 'M': 76}, 'Francis': 34}\n",
      "{'Henry': 43, 'Rey': 12, 'Dolf': {'P': 87, 'C': 96, 'M': 76}, 'Francis': 34}\n",
      "{'Henry': 43, 'John': 32, 'Rey': 12, 'Dolf': {'P': 87, 'C': 96, 'M': 76}, 'Francis': 34, 'Stipe': 38, 'Justin': 32}\n",
      "dict_keys(['Henry', 'John', 'Rey', 'Dolf', 'Francis', 'Stipe', 'Justin'])\n",
      "dict_items([('Henry', 43), ('John', 32), ('Rey', 12), ('Dolf', {'P': 87, 'C': 96, 'M': 76}), ('Francis', 34), ('Stipe', 38), ('Justin', 32)])\n"
     ]
    }
   ],
   "source": [
    "#Dictionary\n",
    "du = {\"Sankalp\":20 , \"Henry\": 43, \"John\":32, \"Rey\":12, \"Dolf\": 23}\n",
    "print(type(du))\n",
    "print(du[\"Henry\"])\n",
    "du2 = {\"Sankalp\":20 , \"Henry\": 43, \"John\":32, \"Rey\":12, \"Dolf\":{\"P\":87,\"C\":96, \"M\":76}}\n",
    "print(du2[\"Dolf\"])\n",
    "print(du2[\"Dolf\"][\"C\"])\n",
    "du2[\"Francis\"] = 34\n",
    "print(du2)\n",
    "del du2[\"Sankalp\"]\n",
    "print(du2)\n",
    "nd = du2.copy()\n",
    "del nd[\"John\"]\n",
    "print(du2)\n",
    "print(nd)\n",
    "du2.update({\"Stipe\":38, \"Justin\":32})\n",
    "print(du2)\n",
    "print(du2.keys())\n",
    "print(du2.items())\n"
   ]
  },
  {
   "cell_type": "code",
   "execution_count": 53,
   "id": "a363c7a8",
   "metadata": {},
   "outputs": [
    {
     "name": "stdout",
     "output_type": "stream",
     "text": [
      "{1, 2, 3, 4, 5, 6, 87}\n",
      "<class 'set'>\n",
      "<class 'list'>\n",
      "{1, 2, 3, 4, 5, 6, 87} {1, 2, 3, 4, 5, 6, 65, 43, 23, 54, 87}\n",
      "{65, 1, 4, 5, 54, 87}\n",
      "87\n",
      "{1, 2, 3, 4, 5, 6, 56}\n"
     ]
    }
   ],
   "source": [
    "#Set\n",
    "ns = set()\n",
    "li = [1,2,3,4,5,6,87]\n",
    "ns = set(li)\n",
    "print (ns)\n",
    "print(type(ns))\n",
    "print(type(li))\n",
    "ns2 = ns.union({23,54,1,23,43,65,2,4})\n",
    "print(ns,ns2)\n",
    "ns3 = ns2.intersection({54,1,65,87,4,5})\n",
    "print(ns3)\n",
    "print(max(ns2))\n",
    "ns.add(56)\n",
    "ns.remove(87)\n",
    "print(ns)"
   ]
  },
  {
   "cell_type": "code",
   "execution_count": 59,
   "id": "d2acacc1",
   "metadata": {},
   "outputs": [
    {
     "name": "stdout",
     "output_type": "stream",
     "text": [
      "Enter a number3\n",
      "Enter a number4\n",
      "The larger number is  4\n",
      "Enter your age18\n",
      "Do you have voter Id card - 1 for Yes and 2 for NO 2\n",
      "Apply for Voter Id card first\n"
     ]
    }
   ],
   "source": [
    "#Conditional Statements if-else\n",
    "# Checking for larger number \n",
    "a = input(\"Enter a number\")\n",
    "b = input(\"Enter a number\")\n",
    "if( a > b):\n",
    "    print(\"the larger number is\",a)\n",
    "if(a == b):\n",
    "    print(\"They both are equal\")\n",
    "else:\n",
    "    print(\"The larger number is \",b)\n",
    "#Checking if a person can cast his/her vote\n",
    "N = int(input(\"Enter your age\"))\n",
    "if(N>=18):\n",
    "    k = int(input(\"Do you have voter Id card - 1 for Yes and 2 for NO \"))\n",
    "    if(k==1):\n",
    "        print(\"Yes you can vote\")\n",
    "    if(k==2):\n",
    "        print(\"Apply for Voter Id card first\")\n",
    "    else:\n",
    "        print(\"invalid input\")\n",
    "else:\n",
    "    print(\"Not eligible Yet\")\n",
    "    "
   ]
  },
  {
   "cell_type": "code",
   "execution_count": 62,
   "id": "a100fde7",
   "metadata": {},
   "outputs": [
    {
     "name": "stdout",
     "output_type": "stream",
     "text": [
      "enter a number54\n",
      "not present\n",
      "True\n",
      "True\n",
      "False\n",
      "False\n"
     ]
    }
   ],
   "source": [
    "li =[1,2,3,4,5,6,7,65,32,2145,65,231,3]\n",
    "n = int(input(\"enter a number\"))\n",
    "if n in li:\n",
    "    print(n,\"present in the list\")\n",
    "else:\n",
    "    print(\"not present\")\n",
    "print(23 not in li)\n",
    "print(2 in li)\n",
    "print(234 in li)\n",
    "print(2 not in li)"
   ]
  },
  {
   "cell_type": "code",
   "execution_count": 75,
   "id": "e9e34962",
   "metadata": {},
   "outputs": [
    {
     "name": "stdout",
     "output_type": "stream",
     "text": [
      "1\n",
      "2\n",
      "3\n",
      "4\n",
      "5\n",
      "6\n",
      "7\n",
      "8\n",
      "9\n",
      "10\n",
      "11\n",
      "12\n",
      "13\n",
      "14\n",
      "15\n",
      "\n",
      "\n",
      "2\n",
      "4\n",
      "6\n",
      "8\n",
      "10\n",
      "12\n",
      "14\n",
      "\n",
      "\n",
      "['Sankalp', 20]\n",
      "['Ridhi', 19]\n",
      "['Sidhi', 23]\n",
      "Sankalp 20\n",
      "Ridhi 19\n",
      "Sidhi 23\n",
      "\n",
      "\n",
      "Sankalp\n",
      "Ridhi\n",
      "Sidhi\n"
     ]
    }
   ],
   "source": [
    "# Loops\n",
    "li = [1,2,3,4,5,6,7,8,9,10,11,12,13,14,15]\n",
    "for i in li:\n",
    "    print(i)\n",
    "    i+=1\n",
    "#printing all even Numbers in a list\n",
    "print(\"\\n\")\n",
    "for i in li:\n",
    "    if(i%2== 0):\n",
    "        print(i)\n",
    "print(\"\\n\")\n",
    "li1 = [[\"Sankalp\",20],[\"Ridhi\",19],[\"Sidhi\",23]]\n",
    "for item in li1:\n",
    "    print(item)\n",
    "for item,age in li1:\n",
    "    print(item,age)\n",
    "print(\"\\n\")\n",
    "du = dict(li1)\n",
    "for item in du:\n",
    "    print(item)"
   ]
  },
  {
   "cell_type": "code",
   "execution_count": 79,
   "id": "c4ab5fa7",
   "metadata": {},
   "outputs": [
    {
     "name": "stdout",
     "output_type": "stream",
     "text": [
      "276\n",
      "The largest number is 76\n"
     ]
    }
   ],
   "source": [
    "#Addition\n",
    "sum =0 \n",
    "li = [1,2,3,4,5,75,23,74,13,76]\n",
    "for i in li :\n",
    "    sum = sum + i\n",
    "print(sum)\n",
    "#Largest Number\n",
    "l = None \n",
    "for i in li:\n",
    "    if (l is None):\n",
    "        l=i\n",
    "    if (i>l):\n",
    "        l=i\n",
    "print(\"The largest number is\",l)    "
   ]
  },
  {
   "cell_type": "code",
   "execution_count": 87,
   "id": "f9f3463b",
   "metadata": {},
   "outputs": [
    {
     "name": "stdout",
     "output_type": "stream",
     "text": [
      "100 99 98 97 96 95 94 93 92 91 90 89 88 87 86 85 84 83 82 81 80 79 78 77 76 75 74 73 72 71 70 69 68 67 66 65 64 63 62 61 60 59 58 57 56 55 54 53 52 51 50 49 48 47 46 45 44 43 42 41 40 39 38 37 36 35 34 33 32 31 30 29 28 27 26 25 24 23 22 21 20 19 18 17 16 15 14 13 12 11 10 9 8 7 6 5 4 Enter a number345\n",
      "yhe sum of the digits is 12\n"
     ]
    }
   ],
   "source": [
    "#while \n",
    "i = 100\n",
    "while i >3:\n",
    "    print(i , end =\" \")\n",
    "    i= i-1\n",
    "#Sum of digits of a number\n",
    "Num = int(input(\"Enter a number\"))\n",
    "sum = 0\n",
    "while Num > 0:\n",
    "    k = int(Num%10)\n",
    "    sum = int(sum+k)\n",
    "    Num = int(Num/10)\n",
    "print(\"yhe sum of the digits is\",sum)    "
   ]
  },
  {
   "cell_type": "code",
   "execution_count": 100,
   "id": "216e553f",
   "metadata": {},
   "outputs": [
    {
     "name": "stdout",
     "output_type": "stream",
     "text": [
      "Hello this is a basic user defined function\n",
      "Hello this is a basic user defined function\n",
      "Hello this is a basic user defined function\n",
      "Hello this is a basic user defined function\n",
      "Hello this is a basic user defined function\n",
      "Hello this is a basic user defined function\n",
      "Hello this is a basic user defined function\n",
      "Hello this is a basic user defined function\n",
      "Hello this is a basic user defined function\n"
     ]
    }
   ],
   "source": [
    "#Functions\n",
    "#user-defined\n",
    "def display():\n",
    "    print(\"Hello this is a basic user defined function\")\n",
    "for i in range(1,10):\n",
    "    display()\n",
    "    i+=1\n"
   ]
  },
  {
   "cell_type": "code",
   "execution_count": 103,
   "id": "c87703f9",
   "metadata": {},
   "outputs": [
    {
     "name": "stdout",
     "output_type": "stream",
     "text": [
      "enter a number5\n",
      "The factorial of the number is  120\n"
     ]
    }
   ],
   "source": [
    "#Find Factorial of a number\n",
    "\n",
    "def factorial(k):\n",
    "    f=1\n",
    "    for i in range(1,k+1):\n",
    "        f=f*i\n",
    "        i+=1\n",
    "    return f \n",
    "N = int(input(\"enter a number\"))\n",
    "print(\"The factorial of the number is \" ,factorial(N))"
   ]
  },
  {
   "cell_type": "code",
   "execution_count": 112,
   "id": "371a8c3c",
   "metadata": {},
   "outputs": [
    {
     "name": "stdout",
     "output_type": "stream",
     "text": [
      "Enter a String to be checkedsamas\n",
      "The String is Same when reversed\n"
     ]
    }
   ],
   "source": [
    "#To reverse a string and check if the reversed string is same as it was before\n",
    "def rev(Strq):\n",
    "    nstr = \"\"\n",
    "    k = len(Strq)\n",
    "    for i in range(0,k):\n",
    "        nstr = nstr + Strq[k-i-1]\n",
    "    return nstr\n",
    "St = input(\"Enter a String to be checked\")\n",
    "revStr =\"\"\n",
    "revStr = rev(St)\n",
    "if (St.lower() == revStr.lower()):\n",
    "    print(\"The String is Same when reversed\")\n",
    "else:\n",
    "    print(\"Not same\")\n"
   ]
  },
  {
   "cell_type": "code",
   "execution_count": null,
   "id": "f96e1233",
   "metadata": {},
   "outputs": [],
   "source": []
  },
  {
   "cell_type": "code",
   "execution_count": null,
   "id": "6a190d3c",
   "metadata": {},
   "outputs": [],
   "source": []
  }
 ],
 "metadata": {
  "kernelspec": {
   "display_name": "Python 3 (ipykernel)",
   "language": "python",
   "name": "python3"
  },
  "language_info": {
   "codemirror_mode": {
    "name": "ipython",
    "version": 3
   },
   "file_extension": ".py",
   "mimetype": "text/x-python",
   "name": "python",
   "nbconvert_exporter": "python",
   "pygments_lexer": "ipython3",
   "version": "3.9.7"
  }
 },
 "nbformat": 4,
 "nbformat_minor": 5
}
